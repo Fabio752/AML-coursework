{
 "cells": [
  {
   "cell_type": "markdown",
   "id": "73509451",
   "metadata": {},
   "source": [
    "# PART 1"
   ]
  },
  {
   "cell_type": "markdown",
   "id": "a62b527f",
   "metadata": {},
   "source": [
    "### Question 1 \n",
    "Join the House Prices - Advanced Regression Techniques competition on Kaggle. Download the\n",
    "training and test data."
   ]
  },
  {
   "cell_type": "code",
   "execution_count": 119,
   "id": "fa870dd0",
   "metadata": {},
   "outputs": [
    {
     "name": "stdout",
     "output_type": "stream",
     "text": [
      "        Id  MSSubClass MSZoning  LotFrontage  LotArea Street Alley LotShape  \\\n",
      "0        1          60       RL         65.0     8450   Pave   NaN      Reg   \n",
      "1        2          20       RL         80.0     9600   Pave   NaN      Reg   \n",
      "2        3          60       RL         68.0    11250   Pave   NaN      IR1   \n",
      "3        4          70       RL         60.0     9550   Pave   NaN      IR1   \n",
      "4        5          60       RL         84.0    14260   Pave   NaN      IR1   \n",
      "...    ...         ...      ...          ...      ...    ...   ...      ...   \n",
      "1455  1456          60       RL         62.0     7917   Pave   NaN      Reg   \n",
      "1456  1457          20       RL         85.0    13175   Pave   NaN      Reg   \n",
      "1457  1458          70       RL         66.0     9042   Pave   NaN      Reg   \n",
      "1458  1459          20       RL         68.0     9717   Pave   NaN      Reg   \n",
      "1459  1460          20       RL         75.0     9937   Pave   NaN      Reg   \n",
      "\n",
      "     LandContour Utilities  ... PoolArea PoolQC  Fence MiscFeature MiscVal  \\\n",
      "0            Lvl    AllPub  ...        0    NaN    NaN         NaN       0   \n",
      "1            Lvl    AllPub  ...        0    NaN    NaN         NaN       0   \n",
      "2            Lvl    AllPub  ...        0    NaN    NaN         NaN       0   \n",
      "3            Lvl    AllPub  ...        0    NaN    NaN         NaN       0   \n",
      "4            Lvl    AllPub  ...        0    NaN    NaN         NaN       0   \n",
      "...          ...       ...  ...      ...    ...    ...         ...     ...   \n",
      "1455         Lvl    AllPub  ...        0    NaN    NaN         NaN       0   \n",
      "1456         Lvl    AllPub  ...        0    NaN  MnPrv         NaN       0   \n",
      "1457         Lvl    AllPub  ...        0    NaN  GdPrv        Shed    2500   \n",
      "1458         Lvl    AllPub  ...        0    NaN    NaN         NaN       0   \n",
      "1459         Lvl    AllPub  ...        0    NaN    NaN         NaN       0   \n",
      "\n",
      "     MoSold YrSold  SaleType  SaleCondition  SalePrice  \n",
      "0         2   2008        WD         Normal     208500  \n",
      "1         5   2007        WD         Normal     181500  \n",
      "2         9   2008        WD         Normal     223500  \n",
      "3         2   2006        WD        Abnorml     140000  \n",
      "4        12   2008        WD         Normal     250000  \n",
      "...     ...    ...       ...            ...        ...  \n",
      "1455      8   2007        WD         Normal     175000  \n",
      "1456      2   2010        WD         Normal     210000  \n",
      "1457      5   2010        WD         Normal     266500  \n",
      "1458      4   2010        WD         Normal     142125  \n",
      "1459      6   2008        WD         Normal     147500  \n",
      "\n",
      "[1460 rows x 81 columns]\n"
     ]
    }
   ],
   "source": [
    "import pandas as pd\n",
    "import matplotlib.pyplot as plt\n",
    "import numpy as np\n",
    "# col_names = [\"sepal length\", \"sepal width\", \"petal length\", \"petal width\", \"class\"]\n",
    "df_train = pd.read_csv('./data/train.csv')\n",
    "df_test = pd.read_csv('./data/test.csv')\n",
    "print(df_train)"
   ]
  },
  {
   "cell_type": "code",
   "execution_count": 120,
   "id": "6d6c331a",
   "metadata": {},
   "outputs": [],
   "source": [
    "# helper plot function\n",
    "def custom_plot(ax, xlab=\"\", ylab=\"\", title=\"\"):\n",
    "    ax.set_xlabel(xlab)\n",
    "    ax.set_ylabel(ylab)\n",
    "    ax.set_title(title)\n"
   ]
  },
  {
   "cell_type": "markdown",
   "id": "049ff34a",
   "metadata": {},
   "source": [
    "### Question 2\n",
    "Give 3 examples of continuous and categorical features in the dataset; choose one feature of each\n",
    "type and plot the histogram to illustrate the distribution."
   ]
  },
  {
   "cell_type": "markdown",
   "id": "42a58180",
   "metadata": {},
   "source": [
    "#### Continuous features:\n",
    "- Lot Frontage\n",
    "- Lot Area\n",
    "- Sale Price"
   ]
  },
  {
   "cell_type": "code",
   "execution_count": 121,
   "id": "c0e5ab9e",
   "metadata": {
    "scrolled": true
   },
   "outputs": [
    {
     "data": {
      "image/png": "[encoded data removed]",
      "text/plain": [
       "<Figure size 432x288 with 1 Axes>"
      ]
     },
     "metadata": {
      "needs_background": "light"
     },
     "output_type": "display_data"
    }
   ],
   "source": [
    "# Histogram for SalePrice\n",
    "plt.hist(df_train[\"SalePrice\"])\n",
    "custom_plot(plt.gca(), xlab = \"Sale Price\", ylab = \"Count\", title = \"Sale Price Histogram\")"
   ]
  },
  {
   "cell_type": "markdown",
   "id": "9de2129a",
   "metadata": {},
   "source": [
    "#### Categorical features:\n",
    "- Street\n",
    "- Lot Shape\n",
    "- Utilities"
   ]
  },
  {
   "cell_type": "code",
   "execution_count": 192,
   "id": "3924fe9a",
   "metadata": {},
   "outputs": [
    {
     "name": "stdout",
     "output_type": "stream",
     "text": [
      "0       65.0\n",
      "1       80.0\n",
      "2       68.0\n",
      "3       60.0\n",
      "4       84.0\n",
      "        ... \n",
      "1455    62.0\n",
      "1456    85.0\n",
      "1457    66.0\n",
      "1458    68.0\n",
      "1459    75.0\n",
      "Name: LotFrontage, Length: 1460, dtype: float64\n"
     ]
    },
    {
     "data": {
      "image/png": "[encoded data removed]",
      "text/plain": [
       "<Figure size 432x288 with 1 Axes>"
      ]
     },
     "metadata": {
      "needs_background": "light"
     },
     "output_type": "display_data"
    }
   ],
   "source": [
    "# Histogram for LotShape\n",
    "plt.hist(df_train[\"LotShape\"])\n",
    "custom_plot(plt.gca(), xlab = \"Lot Shape\", ylab = \"Count\", title = \"Lot Shape Histogram\")"
   ]
  },
  {
   "cell_type": "code",
   "execution_count": 163,
   "id": "292095c1",
   "metadata": {},
   "outputs": [
    {
     "data": {
      "image/png": "[encoded data removed]",
      "text/plain": [
       "<Figure size 432x288 with 1 Axes>"
      ]
     },
     "metadata": {
      "needs_background": "light"
     },
     "output_type": "display_data"
    }
   ],
   "source": [
    "# Histogram for LotShape\n",
    "fig, ax = plt.subplots(1, 1)\n",
    "ax.hist(df_train[\"LotShape\"])\n",
    "custom_plot(ax, xlab = \"Lot Shape\", ylab = \"Count\", title = \"Lot Shape Histogram\")"
   ]
  },
  {
   "cell_type": "markdown",
   "id": "b471ac73",
   "metadata": {},
   "source": [
    "- MSSubClass is the type of estate. I think it is important to predict cost but has too many types to be one hot encoded.\n",
    "- MSZoning identifies type of zone in which the estate is located. Quite important for price, can assume five values: RL, RM, RH, FV, C. Candidate for 1HE\n",
    "- Street is almost always \"Pave\", no information - can be thrown away.\n",
    "- Alley: 1369 NaN on 1459 rows, no information - can be thrown away.\n",
    "- LotShape: General shape, mostly regular or slightly irregular, very few moderate and irregular.\n",
    "- LandContour: Flatness, almost all Level, some banked, hillside and depression (might be useless)\n",
    "- Utilities: All AllPub, just useless \n",
    "- LotConfig: > 1000 Inside lots, some Corner lots and a few Cul de sac (might be useless)\n",
    "- LandSlope: Almost all Gentle, throw away.\n",
    "- Neighborhood: Many neighborohoods listed (25) data well distributed, so good but not feasible to 1HE.\n",
    "- Condition1: Most Norm, maybe throw away.\n",
    "- Condition2: Basicall all Norm, throw away.\n",
    "- BldgType: Many single family detached, some townhouse end units, maybe keep, 5 values so possible 1HE\n",
    "- HouseStyle: Most are One story, many two story and some 1.5finished and Split level, 8 values in total.\n",
    "- OverallQual: Mostly slightly above average on 5s, 6s, 7s, some 8s and 4s very few lows and highs.\n",
    "- OverallCond: Almost all 5 and above, a lot of 5s and some 6s and 7s.\n",
    "- YearBuilt: Almost none <1900, general increasing trend, > 400 around 2000.\n",
    "- YearRemodAdd: Quite a few arond 1950, then steady up to 2000 where increases massively with peak at 2010.\n",
    "- RoofStyle: 90% Gable, 10% Hip, not much data here, other classes basically not represented.\n",
    "- RoofMatl: Basically all Standard Composite shingle, can throw away.\n",
    "- Exterior1st: lot of vinyl siding, some hardboard, brick face and wood siding. few asbestos shingles. Too many types.\n",
    "- Exterior2nd: Most between vinyl, plywood and wood siding.\n",
    "- MasVnrType: 800+ None, others mostly Brick face and some stone.\n",
    "- ExterQual: 800+ Typical material quality of the exterior, almost all others Good. \n",
    "- ExterCond: 1200+ Typical, some good but I think throw away.\n",
    "- Foundation: Mainly evenly divided into Poured Concrete and Cinder Block, Some Brick & Tile. Good candidate for 1HE\n",
    "- BsmtQual: Mainly evenly divided into Good and Average, some Excellents.\n",
    "- BsmtFinType2: Mostly Unfinished, can throw away.\n",
    "- Heating: Almost all Gas forced warm air furnace, throw away.\n",
    "- HeatingQC: 700+ Excellent, many average and some good.\n",
    "- CentralAir: Mostly all yes, < 100 No. Can throw away.\n",
    "- Electrical: Almost all Standard circuit breakers & romex, some Fuse box over 60 Amp. Throw.\n",
    "- KitchenQual: Good number of goods and averages. some excellents and very few fair.\n",
    "- Functional: Mostly all Typical, throw away.\n",
    "- FirePlaceQu: Mostly NA, throw away\n",
    "- GarageType: >800 Attached to home, quite a few detached, some builtin and NA.\n",
    "- GarageFinish: Many Unfinished, quite a few Rough finished an finished, 81 NA.\n",
    "- GarageQual: Almost all average, ignore.\n",
    "- GarageCond: Almost all average, ignore.\n",
    "- PavedDrive: Almost all yes, ignore.\n",
    "- PoolQC: Basicall all NA, ignore.\n",
    "- Fence: Most NA, ignore.\n",
    "- MiscFeature: Almost all NA, just some sheds, ignore.\n",
    "- SaleType: >1200 Warranty Deed, some New but little info, throw away.\n",
    "- SaleCondition: Almost 1200 normal, some partial and abnormal. Maybe throw away?"
   ]
  },
  {
   "cell_type": "markdown",
   "id": "52b0a88c",
   "metadata": {},
   "source": [
    "### Question 3\n",
    "Pre-process your data, explain your pre-processing steps, and the reasons why you need them.\n",
    "(Hint: data pre-processing steps can include but are not restricted to: dealing with missing values,\n",
    "normalizing numerical values, dealing with categorical values etc.)"
   ]
  },
  {
   "cell_type": "code",
   "execution_count": 157,
   "id": "9a3f7651",
   "metadata": {},
   "outputs": [],
   "source": [
    "df_train[\"MasVnrType\"] = df_train[\"MasVnrType\"].fillna(\"None\") # has 8 NaN and a defined \"None\" Category, cleanup.\n",
    "df_train[\"BsmtQual\"] = df_train[\"BsmtQual\"].fillna(\"NA\") # has 37 NaN and a \"NA\" Category, cleanup.\n",
    "df_train[\"BsmtFinType2\"] = df_train[\"BsmtFinType2\"].fillna(\"NA\") # has 38 NaN and a \"NA\" Category, cleanup.\n",
    "df_train[\"Electrical\"] = df_train[\"Electrical\"].fillna(\"NA\") # has only 1 NaN, create new \"NA\" Category.\n",
    "df_train[\"FireplaceQu\"] = df_train[\"FireplaceQu\"].fillna(\"NA\") # has 690 Nan and a \"NA\" Category, cleanup.\n",
    "df_train[\"GarageType\"] = df_train[\"GarageType\"].fillna(\"NA\") # has 81 Nan and a \"NA\" Category, cleanup.\n",
    "df_train[\"GarageFinish\"] = df_train[\"GarageFinish\"].fillna(\"NA\") # has 81 Nan and a \"NA\" Category, cleanup.\n",
    "df_train[\"GarageQual\"] = df_train[\"GarageQual\"].fillna(\"NA\") # has 81 Nan and a \"NA\" Category, cleanup.\n",
    "df_train[\"GarageCond\"] = df_train[\"GarageCond\"].fillna(\"NA\") # has 81 Nan and a \"NA\" Category, cleanup.\n",
    "df_train[\"PoolQC\"] = df_train[\"PoolQC\"].fillna(\"NA\") # has 1453 Nan and a \"NA\" Category, cleanup.\n",
    "df_train[\"Fence\"] = df_train[\"Fence\"].fillna(\"NA\") # has 1453 Nan and a \"NA\" Category, cleanup.\n",
    "df_train[\"MiscFeature\"] = df_train[\"MiscFeature\"].fillna(\"NA\") # has 1453 Nan and a \"NA\" Category, cleanup.\n",
    "df_train[\"LotFrontage\"] = df_train[\"LotFrontage\"].fillna(0.0) # has 259 Nan and is continuous vaue so replace 0.0.\n"
   ]
  },
  {
   "cell_type": "markdown",
   "id": "fabadadd",
   "metadata": {},
   "source": [
    "### Question 4\n",
    "One common method of pre-processing categorical features is to use a one-hot encoding (OHE).\n",
    "Suppose that we start with a categorical feature xj\n",
    ", taking three possible values: xj ∈ {R,G,B}. A\n",
    "one-hot encoding of this feature replaces xj with three new features: xj R,xjG ,xj B . Each feature\n",
    "contains a binary value of 0 or 1, depending on the value taken by xj\n",
    ". For example, if xj = G, then\n",
    "xjG = 1 and xj R = xj B = 0.\n",
    "Give some examples of features that you think should use a one-hot encoding and explain why.\n",
    "Convert at least one feature to a one-hot encoding (you can use your own implementation, or that\n",
    "in pandas or scikit-learn) and visualize the results by plotting feature histograms of the original\n",
    "feature and its new one-hot encoding."
   ]
  },
  {
   "cell_type": "markdown",
   "id": "aa040d00",
   "metadata": {},
   "source": [
    "### Question 5\n",
    "Using ordinary least squares (OLS), try to predict house prices on this dataset. Choose the features\n",
    "(or combinations of features) you would like to use or ignore, provided you justify your choice.\n",
    "Evaluate your predictions on the training set using the MSE and the R\n",
    "2\n",
    "score. For this question,\n",
    "you need to implement OLS from scratch without using any external libraries or packages."
   ]
  },
  {
   "cell_type": "code",
   "execution_count": 173,
   "id": "118e1f93",
   "metadata": {},
   "outputs": [
    {
     "name": "stdout",
     "output_type": "stream",
     "text": [
      "        Id  MSSubClass MSZoning  LotFrontage  LotArea LotShape Neighborhood  \\\n",
      "0        1          60       RL         65.0     8450      Reg      CollgCr   \n",
      "1        2          20       RL         80.0     9600      Reg      Veenker   \n",
      "2        3          60       RL         68.0    11250      IR1      CollgCr   \n",
      "3        4          70       RL         60.0     9550      IR1      Crawfor   \n",
      "4        5          60       RL         84.0    14260      IR1      NoRidge   \n",
      "...    ...         ...      ...          ...      ...      ...          ...   \n",
      "1455  1456          60       RL         62.0     7917      Reg      Gilbert   \n",
      "1456  1457          20       RL         85.0    13175      Reg       NWAmes   \n",
      "1457  1458          70       RL         66.0     9042      Reg      Crawfor   \n",
      "1458  1459          20       RL         68.0     9717      Reg        NAmes   \n",
      "1459  1460          20       RL         75.0     9937      Reg      Edwards   \n",
      "\n",
      "     BldgType HouseStyle  OverallQual  ...  PoolArea  PoolQC  Fence  \\\n",
      "0        1Fam     2Story            7  ...         0      NA     NA   \n",
      "1        1Fam     1Story            6  ...         0      NA     NA   \n",
      "2        1Fam     2Story            7  ...         0      NA     NA   \n",
      "3        1Fam     2Story            7  ...         0      NA     NA   \n",
      "4        1Fam     2Story            8  ...         0      NA     NA   \n",
      "...       ...        ...          ...  ...       ...     ...    ...   \n",
      "1455     1Fam     2Story            6  ...         0      NA     NA   \n",
      "1456     1Fam     1Story            6  ...         0      NA  MnPrv   \n",
      "1457     1Fam     2Story            7  ...         0      NA  GdPrv   \n",
      "1458     1Fam     1Story            5  ...         0      NA     NA   \n",
      "1459     1Fam     1Story            5  ...         0      NA     NA   \n",
      "\n",
      "     MiscFeature MiscVal MoSold  YrSold SaleType SaleCondition SalePrice  \n",
      "0             NA       0      2    2008       WD        Normal    208500  \n",
      "1             NA       0      5    2007       WD        Normal    181500  \n",
      "2             NA       0      9    2008       WD        Normal    223500  \n",
      "3             NA       0      2    2006       WD       Abnorml    140000  \n",
      "4             NA       0     12    2008       WD        Normal    250000  \n",
      "...          ...     ...    ...     ...      ...           ...       ...  \n",
      "1455          NA       0      8    2007       WD        Normal    175000  \n",
      "1456          NA       0      2    2010       WD        Normal    210000  \n",
      "1457        Shed    2500      5    2010       WD        Normal    266500  \n",
      "1458          NA       0      4    2010       WD        Normal    142125  \n",
      "1459          NA       0      6    2008       WD        Normal    147500  \n",
      "\n",
      "[1460 rows x 64 columns]\n"
     ]
    },
    {
     "data": {
      "text/plain": [
       "<matplotlib.image.AxesImage at 0x7fd0ca0df0d0>"
      ]
     },
     "execution_count": 173,
     "metadata": {},
     "output_type": "execute_result"
    },
    {
     "data": {
      "image/png": "[encoded data removed]",
      "text/plain": [
       "<Figure size 288x288 with 1 Axes>"
      ]
     },
     "metadata": {
      "needs_background": "light"
     },
     "output_type": "display_data"
    }
   ],
   "source": [
    "df_train_processed = df_train.drop(columns=['Street', 'Alley', 'LandContour', 'Utilities', 'LotConfig', \\\n",
    "                                            'LandSlope', 'Condition1', 'Condition2', 'RoofStyle', \\\n",
    "                                            'RoofMatl', 'ExterCond', 'BsmtFinType2', 'Heating', 'CentralAir', \\\n",
    "                                            'Electrical', 'Functional', 'FireplaceQu'])\n",
    "print(df_train_processed)\n",
    "matrix = df_train_processed.corr()\n",
    "plt.matshow(matrix)"
   ]
  },
  {
   "cell_type": "markdown",
   "id": "08b5c71d",
   "metadata": {},
   "source": [
    "### Question 6 \n",
    "Train your model using all of the training data (all data points, but not necessarily all the features),\n",
    "and test it using the testing data. Submit your results to Kaggle."
   ]
  },
  {
   "cell_type": "code",
   "execution_count": 189,
   "id": "75d2d4b2",
   "metadata": {},
   "outputs": [
    {
     "name": "stdout",
     "output_type": "stream",
     "text": [
      "Id                 0\n",
      "MSSubClass         0\n",
      "MSZoning           0\n",
      "LotFrontage      259\n",
      "LotArea            0\n",
      "                ... \n",
      "MiscVal            0\n",
      "MoSold             0\n",
      "YrSold             0\n",
      "SaleType           0\n",
      "SaleCondition      0\n",
      "Length: 63, dtype: int64\n",
      "        Id  MSSubClass  LotFrontage  LotArea  OverallQual  OverallCond  \\\n",
      "0        1          60         65.0     8450            7            5   \n",
      "1        2          20         80.0     9600            6            8   \n",
      "2        3          60         68.0    11250            7            5   \n",
      "3        4          70         60.0     9550            7            5   \n",
      "4        5          60         84.0    14260            8            5   \n",
      "...    ...         ...          ...      ...          ...          ...   \n",
      "1455  1456          60         62.0     7917            6            5   \n",
      "1456  1457          20         85.0    13175            6            6   \n",
      "1457  1458          70         66.0     9042            7            9   \n",
      "1458  1459          20         68.0     9717            5            6   \n",
      "1459  1460          20         75.0     9937            5            6   \n",
      "\n",
      "      YearBuilt  YearRemodAdd  MasVnrArea  BsmtFinSF1  ...  SaleType_ConLw  \\\n",
      "0          2003          2003       196.0         706  ...               0   \n",
      "1          1976          1976         0.0         978  ...               0   \n",
      "2          2001          2002       162.0         486  ...               0   \n",
      "3          1915          1970         0.0         216  ...               0   \n",
      "4          2000          2000       350.0         655  ...               0   \n",
      "...         ...           ...         ...         ...  ...             ...   \n",
      "1455       1999          2000         0.0           0  ...               0   \n",
      "1456       1978          1988       119.0         790  ...               0   \n",
      "1457       1941          2006         0.0         275  ...               0   \n",
      "1458       1950          1996         0.0          49  ...               0   \n",
      "1459       1965          1965         0.0         830  ...               0   \n",
      "\n",
      "      SaleType_New  SaleType_Oth  SaleType_WD  SaleCondition_Abnorml  \\\n",
      "0                0             0            1                      0   \n",
      "1                0             0            1                      0   \n",
      "2                0             0            1                      0   \n",
      "3                0             0            1                      1   \n",
      "4                0             0            1                      0   \n",
      "...            ...           ...          ...                    ...   \n",
      "1455             0             0            1                      0   \n",
      "1456             0             0            1                      0   \n",
      "1457             0             0            1                      0   \n",
      "1458             0             0            1                      0   \n",
      "1459             0             0            1                      0   \n",
      "\n",
      "      SaleCondition_AdjLand  SaleCondition_Alloca  SaleCondition_Family  \\\n",
      "0                         0                     0                     0   \n",
      "1                         0                     0                     0   \n",
      "2                         0                     0                     0   \n",
      "3                         0                     0                     0   \n",
      "4                         0                     0                     0   \n",
      "...                     ...                   ...                   ...   \n",
      "1455                      0                     0                     0   \n",
      "1456                      0                     0                     0   \n",
      "1457                      0                     0                     0   \n",
      "1458                      0                     0                     0   \n",
      "1459                      0                     0                     0   \n",
      "\n",
      "      SaleCondition_Normal  SaleCondition_Partial  \n",
      "0                        1                      0  \n",
      "1                        1                      0  \n",
      "2                        1                      0  \n",
      "3                        0                      0  \n",
      "4                        1                      0  \n",
      "...                    ...                    ...  \n",
      "1455                     1                      0  \n",
      "1456                     1                      0  \n",
      "1457                     1                      0  \n",
      "1458                     1                      0  \n",
      "1459                     1                      0  \n",
      "\n",
      "[1460 rows x 212 columns]\n"
     ]
    },
    {
     "ename": "ValueError",
     "evalue": "Pandas data cast to numpy dtype of object. Check input data with np.asarray(data).",
     "output_type": "error",
     "traceback": [
      "\u001b[0;31m---------------------------------------------------------------------------\u001b[0m",
      "\u001b[0;31mValueError\u001b[0m                                Traceback (most recent call last)",
      "\u001b[0;32m<ipython-input-189-693ca3efbd84>\u001b[0m in \u001b[0;36m<module>\u001b[0;34m\u001b[0m\n\u001b[1;32m      4\u001b[0m \u001b[0mprint\u001b[0m\u001b[0;34m(\u001b[0m\u001b[0mX\u001b[0m\u001b[0;34m.\u001b[0m\u001b[0misna\u001b[0m\u001b[0;34m(\u001b[0m\u001b[0;34m)\u001b[0m\u001b[0;34m.\u001b[0m\u001b[0msum\u001b[0m\u001b[0;34m(\u001b[0m\u001b[0;34m)\u001b[0m\u001b[0;34m)\u001b[0m\u001b[0;34m\u001b[0m\u001b[0;34m\u001b[0m\u001b[0m\n\u001b[1;32m      5\u001b[0m \u001b[0mprint\u001b[0m\u001b[0;34m(\u001b[0m\u001b[0mpd\u001b[0m\u001b[0;34m.\u001b[0m\u001b[0mget_dummies\u001b[0m\u001b[0;34m(\u001b[0m\u001b[0mX\u001b[0m\u001b[0;34m)\u001b[0m\u001b[0;34m)\u001b[0m\u001b[0;34m\u001b[0m\u001b[0;34m\u001b[0m\u001b[0m\n\u001b[0;32m----> 6\u001b[0;31m \u001b[0mks\u001b[0m \u001b[0;34m=\u001b[0m \u001b[0msm\u001b[0m\u001b[0;34m.\u001b[0m\u001b[0mOLS\u001b[0m\u001b[0;34m(\u001b[0m\u001b[0mY\u001b[0m\u001b[0;34m,\u001b[0m \u001b[0mX\u001b[0m\u001b[0;34m)\u001b[0m\u001b[0;34m\u001b[0m\u001b[0;34m\u001b[0m\u001b[0m\n\u001b[0m\u001b[1;32m      7\u001b[0m \u001b[0mks_res\u001b[0m \u001b[0;34m=\u001b[0m\u001b[0mks\u001b[0m\u001b[0;34m.\u001b[0m\u001b[0mfit\u001b[0m\u001b[0;34m(\u001b[0m\u001b[0;34m)\u001b[0m\u001b[0;34m\u001b[0m\u001b[0;34m\u001b[0m\u001b[0m\n\u001b[1;32m      8\u001b[0m \u001b[0mks_res\u001b[0m\u001b[0;34m.\u001b[0m\u001b[0msummary\u001b[0m\u001b[0;34m(\u001b[0m\u001b[0;34m)\u001b[0m\u001b[0;34m\u001b[0m\u001b[0;34m\u001b[0m\u001b[0m\n",
      "\u001b[0;32m~/.local/lib/python3.8/site-packages/statsmodels/regression/linear_model.py\u001b[0m in \u001b[0;36m__init__\u001b[0;34m(self, endog, exog, missing, hasconst, **kwargs)\u001b[0m\n\u001b[1;32m    888\u001b[0m                    \"An exception will be raised in the next version.\")\n\u001b[1;32m    889\u001b[0m             \u001b[0mwarnings\u001b[0m\u001b[0;34m.\u001b[0m\u001b[0mwarn\u001b[0m\u001b[0;34m(\u001b[0m\u001b[0mmsg\u001b[0m\u001b[0;34m,\u001b[0m \u001b[0mValueWarning\u001b[0m\u001b[0;34m)\u001b[0m\u001b[0;34m\u001b[0m\u001b[0;34m\u001b[0m\u001b[0m\n\u001b[0;32m--> 890\u001b[0;31m         super(OLS, self).__init__(endog, exog, missing=missing,\n\u001b[0m\u001b[1;32m    891\u001b[0m                                   hasconst=hasconst, **kwargs)\n\u001b[1;32m    892\u001b[0m         \u001b[0;32mif\u001b[0m \u001b[0;34m\"weights\"\u001b[0m \u001b[0;32min\u001b[0m \u001b[0mself\u001b[0m\u001b[0;34m.\u001b[0m\u001b[0m_init_keys\u001b[0m\u001b[0;34m:\u001b[0m\u001b[0;34m\u001b[0m\u001b[0;34m\u001b[0m\u001b[0m\n",
      "\u001b[0;32m~/.local/lib/python3.8/site-packages/statsmodels/regression/linear_model.py\u001b[0m in \u001b[0;36m__init__\u001b[0;34m(self, endog, exog, weights, missing, hasconst, **kwargs)\u001b[0m\n\u001b[1;32m    715\u001b[0m         \u001b[0;32melse\u001b[0m\u001b[0;34m:\u001b[0m\u001b[0;34m\u001b[0m\u001b[0;34m\u001b[0m\u001b[0m\n\u001b[1;32m    716\u001b[0m             \u001b[0mweights\u001b[0m \u001b[0;34m=\u001b[0m \u001b[0mweights\u001b[0m\u001b[0;34m.\u001b[0m\u001b[0msqueeze\u001b[0m\u001b[0;34m(\u001b[0m\u001b[0;34m)\u001b[0m\u001b[0;34m\u001b[0m\u001b[0;34m\u001b[0m\u001b[0m\n\u001b[0;32m--> 717\u001b[0;31m         super(WLS, self).__init__(endog, exog, missing=missing,\n\u001b[0m\u001b[1;32m    718\u001b[0m                                   weights=weights, hasconst=hasconst, **kwargs)\n\u001b[1;32m    719\u001b[0m         \u001b[0mnobs\u001b[0m \u001b[0;34m=\u001b[0m \u001b[0mself\u001b[0m\u001b[0;34m.\u001b[0m\u001b[0mexog\u001b[0m\u001b[0;34m.\u001b[0m\u001b[0mshape\u001b[0m\u001b[0;34m[\u001b[0m\u001b[0;36m0\u001b[0m\u001b[0;34m]\u001b[0m\u001b[0;34m\u001b[0m\u001b[0;34m\u001b[0m\u001b[0m\n",
      "\u001b[0;32m~/.local/lib/python3.8/site-packages/statsmodels/regression/linear_model.py\u001b[0m in \u001b[0;36m__init__\u001b[0;34m(self, endog, exog, **kwargs)\u001b[0m\n\u001b[1;32m    189\u001b[0m     \"\"\"\n\u001b[1;32m    190\u001b[0m     \u001b[0;32mdef\u001b[0m \u001b[0m__init__\u001b[0m\u001b[0;34m(\u001b[0m\u001b[0mself\u001b[0m\u001b[0;34m,\u001b[0m \u001b[0mendog\u001b[0m\u001b[0;34m,\u001b[0m \u001b[0mexog\u001b[0m\u001b[0;34m,\u001b[0m \u001b[0;34m**\u001b[0m\u001b[0mkwargs\u001b[0m\u001b[0;34m)\u001b[0m\u001b[0;34m:\u001b[0m\u001b[0;34m\u001b[0m\u001b[0;34m\u001b[0m\u001b[0m\n\u001b[0;32m--> 191\u001b[0;31m         \u001b[0msuper\u001b[0m\u001b[0;34m(\u001b[0m\u001b[0mRegressionModel\u001b[0m\u001b[0;34m,\u001b[0m \u001b[0mself\u001b[0m\u001b[0;34m)\u001b[0m\u001b[0;34m.\u001b[0m\u001b[0m__init__\u001b[0m\u001b[0;34m(\u001b[0m\u001b[0mendog\u001b[0m\u001b[0;34m,\u001b[0m \u001b[0mexog\u001b[0m\u001b[0;34m,\u001b[0m \u001b[0;34m**\u001b[0m\u001b[0mkwargs\u001b[0m\u001b[0;34m)\u001b[0m\u001b[0;34m\u001b[0m\u001b[0;34m\u001b[0m\u001b[0m\n\u001b[0m\u001b[1;32m    192\u001b[0m         \u001b[0mself\u001b[0m\u001b[0;34m.\u001b[0m\u001b[0m_data_attr\u001b[0m\u001b[0;34m.\u001b[0m\u001b[0mextend\u001b[0m\u001b[0;34m(\u001b[0m\u001b[0;34m[\u001b[0m\u001b[0;34m'pinv_wexog'\u001b[0m\u001b[0;34m,\u001b[0m \u001b[0;34m'wendog'\u001b[0m\u001b[0;34m,\u001b[0m \u001b[0;34m'wexog'\u001b[0m\u001b[0;34m,\u001b[0m \u001b[0;34m'weights'\u001b[0m\u001b[0;34m]\u001b[0m\u001b[0;34m)\u001b[0m\u001b[0;34m\u001b[0m\u001b[0;34m\u001b[0m\u001b[0m\n\u001b[1;32m    193\u001b[0m \u001b[0;34m\u001b[0m\u001b[0m\n",
      "\u001b[0;32m~/.local/lib/python3.8/site-packages/statsmodels/base/model.py\u001b[0m in \u001b[0;36m__init__\u001b[0;34m(self, endog, exog, **kwargs)\u001b[0m\n\u001b[1;32m    265\u001b[0m \u001b[0;34m\u001b[0m\u001b[0m\n\u001b[1;32m    266\u001b[0m     \u001b[0;32mdef\u001b[0m \u001b[0m__init__\u001b[0m\u001b[0;34m(\u001b[0m\u001b[0mself\u001b[0m\u001b[0;34m,\u001b[0m \u001b[0mendog\u001b[0m\u001b[0;34m,\u001b[0m \u001b[0mexog\u001b[0m\u001b[0;34m=\u001b[0m\u001b[0;32mNone\u001b[0m\u001b[0;34m,\u001b[0m \u001b[0;34m**\u001b[0m\u001b[0mkwargs\u001b[0m\u001b[0;34m)\u001b[0m\u001b[0;34m:\u001b[0m\u001b[0;34m\u001b[0m\u001b[0;34m\u001b[0m\u001b[0m\n\u001b[0;32m--> 267\u001b[0;31m         \u001b[0msuper\u001b[0m\u001b[0;34m(\u001b[0m\u001b[0;34m)\u001b[0m\u001b[0;34m.\u001b[0m\u001b[0m__init__\u001b[0m\u001b[0;34m(\u001b[0m\u001b[0mendog\u001b[0m\u001b[0;34m,\u001b[0m \u001b[0mexog\u001b[0m\u001b[0;34m,\u001b[0m \u001b[0;34m**\u001b[0m\u001b[0mkwargs\u001b[0m\u001b[0;34m)\u001b[0m\u001b[0;34m\u001b[0m\u001b[0;34m\u001b[0m\u001b[0m\n\u001b[0m\u001b[1;32m    268\u001b[0m         \u001b[0mself\u001b[0m\u001b[0;34m.\u001b[0m\u001b[0minitialize\u001b[0m\u001b[0;34m(\u001b[0m\u001b[0;34m)\u001b[0m\u001b[0;34m\u001b[0m\u001b[0;34m\u001b[0m\u001b[0m\n\u001b[1;32m    269\u001b[0m \u001b[0;34m\u001b[0m\u001b[0m\n",
      "\u001b[0;32m~/.local/lib/python3.8/site-packages/statsmodels/base/model.py\u001b[0m in \u001b[0;36m__init__\u001b[0;34m(self, endog, exog, **kwargs)\u001b[0m\n\u001b[1;32m     90\u001b[0m         \u001b[0mmissing\u001b[0m \u001b[0;34m=\u001b[0m \u001b[0mkwargs\u001b[0m\u001b[0;34m.\u001b[0m\u001b[0mpop\u001b[0m\u001b[0;34m(\u001b[0m\u001b[0;34m'missing'\u001b[0m\u001b[0;34m,\u001b[0m \u001b[0;34m'none'\u001b[0m\u001b[0;34m)\u001b[0m\u001b[0;34m\u001b[0m\u001b[0;34m\u001b[0m\u001b[0m\n\u001b[1;32m     91\u001b[0m         \u001b[0mhasconst\u001b[0m \u001b[0;34m=\u001b[0m \u001b[0mkwargs\u001b[0m\u001b[0;34m.\u001b[0m\u001b[0mpop\u001b[0m\u001b[0;34m(\u001b[0m\u001b[0;34m'hasconst'\u001b[0m\u001b[0;34m,\u001b[0m \u001b[0;32mNone\u001b[0m\u001b[0;34m)\u001b[0m\u001b[0;34m\u001b[0m\u001b[0;34m\u001b[0m\u001b[0m\n\u001b[0;32m---> 92\u001b[0;31m         self.data = self._handle_data(endog, exog, missing, hasconst,\n\u001b[0m\u001b[1;32m     93\u001b[0m                                       **kwargs)\n\u001b[1;32m     94\u001b[0m         \u001b[0mself\u001b[0m\u001b[0;34m.\u001b[0m\u001b[0mk_constant\u001b[0m \u001b[0;34m=\u001b[0m \u001b[0mself\u001b[0m\u001b[0;34m.\u001b[0m\u001b[0mdata\u001b[0m\u001b[0;34m.\u001b[0m\u001b[0mk_constant\u001b[0m\u001b[0;34m\u001b[0m\u001b[0;34m\u001b[0m\u001b[0m\n",
      "\u001b[0;32m~/.local/lib/python3.8/site-packages/statsmodels/base/model.py\u001b[0m in \u001b[0;36m_handle_data\u001b[0;34m(self, endog, exog, missing, hasconst, **kwargs)\u001b[0m\n\u001b[1;32m    130\u001b[0m \u001b[0;34m\u001b[0m\u001b[0m\n\u001b[1;32m    131\u001b[0m     \u001b[0;32mdef\u001b[0m \u001b[0m_handle_data\u001b[0m\u001b[0;34m(\u001b[0m\u001b[0mself\u001b[0m\u001b[0;34m,\u001b[0m \u001b[0mendog\u001b[0m\u001b[0;34m,\u001b[0m \u001b[0mexog\u001b[0m\u001b[0;34m,\u001b[0m \u001b[0mmissing\u001b[0m\u001b[0;34m,\u001b[0m \u001b[0mhasconst\u001b[0m\u001b[0;34m,\u001b[0m \u001b[0;34m**\u001b[0m\u001b[0mkwargs\u001b[0m\u001b[0;34m)\u001b[0m\u001b[0;34m:\u001b[0m\u001b[0;34m\u001b[0m\u001b[0;34m\u001b[0m\u001b[0m\n\u001b[0;32m--> 132\u001b[0;31m         \u001b[0mdata\u001b[0m \u001b[0;34m=\u001b[0m \u001b[0mhandle_data\u001b[0m\u001b[0;34m(\u001b[0m\u001b[0mendog\u001b[0m\u001b[0;34m,\u001b[0m \u001b[0mexog\u001b[0m\u001b[0;34m,\u001b[0m \u001b[0mmissing\u001b[0m\u001b[0;34m,\u001b[0m \u001b[0mhasconst\u001b[0m\u001b[0;34m,\u001b[0m \u001b[0;34m**\u001b[0m\u001b[0mkwargs\u001b[0m\u001b[0;34m)\u001b[0m\u001b[0;34m\u001b[0m\u001b[0;34m\u001b[0m\u001b[0m\n\u001b[0m\u001b[1;32m    133\u001b[0m         \u001b[0;31m# kwargs arrays could have changed, easier to just attach here\u001b[0m\u001b[0;34m\u001b[0m\u001b[0;34m\u001b[0m\u001b[0;34m\u001b[0m\u001b[0m\n\u001b[1;32m    134\u001b[0m         \u001b[0;32mfor\u001b[0m \u001b[0mkey\u001b[0m \u001b[0;32min\u001b[0m \u001b[0mkwargs\u001b[0m\u001b[0;34m:\u001b[0m\u001b[0;34m\u001b[0m\u001b[0;34m\u001b[0m\u001b[0m\n",
      "\u001b[0;32m~/.local/lib/python3.8/site-packages/statsmodels/base/data.py\u001b[0m in \u001b[0;36mhandle_data\u001b[0;34m(endog, exog, missing, hasconst, **kwargs)\u001b[0m\n\u001b[1;32m    671\u001b[0m \u001b[0;34m\u001b[0m\u001b[0m\n\u001b[1;32m    672\u001b[0m     \u001b[0mklass\u001b[0m \u001b[0;34m=\u001b[0m \u001b[0mhandle_data_class_factory\u001b[0m\u001b[0;34m(\u001b[0m\u001b[0mendog\u001b[0m\u001b[0;34m,\u001b[0m \u001b[0mexog\u001b[0m\u001b[0;34m)\u001b[0m\u001b[0;34m\u001b[0m\u001b[0;34m\u001b[0m\u001b[0m\n\u001b[0;32m--> 673\u001b[0;31m     return klass(endog, exog=exog, missing=missing, hasconst=hasconst,\n\u001b[0m\u001b[1;32m    674\u001b[0m                  **kwargs)\n",
      "\u001b[0;32m~/.local/lib/python3.8/site-packages/statsmodels/base/data.py\u001b[0m in \u001b[0;36m__init__\u001b[0;34m(self, endog, exog, missing, hasconst, **kwargs)\u001b[0m\n\u001b[1;32m     80\u001b[0m             \u001b[0mself\u001b[0m\u001b[0;34m.\u001b[0m\u001b[0morig_endog\u001b[0m \u001b[0;34m=\u001b[0m \u001b[0mendog\u001b[0m\u001b[0;34m\u001b[0m\u001b[0;34m\u001b[0m\u001b[0m\n\u001b[1;32m     81\u001b[0m             \u001b[0mself\u001b[0m\u001b[0;34m.\u001b[0m\u001b[0morig_exog\u001b[0m \u001b[0;34m=\u001b[0m \u001b[0mexog\u001b[0m\u001b[0;34m\u001b[0m\u001b[0;34m\u001b[0m\u001b[0m\n\u001b[0;32m---> 82\u001b[0;31m             \u001b[0mself\u001b[0m\u001b[0;34m.\u001b[0m\u001b[0mendog\u001b[0m\u001b[0;34m,\u001b[0m \u001b[0mself\u001b[0m\u001b[0;34m.\u001b[0m\u001b[0mexog\u001b[0m \u001b[0;34m=\u001b[0m \u001b[0mself\u001b[0m\u001b[0;34m.\u001b[0m\u001b[0m_convert_endog_exog\u001b[0m\u001b[0;34m(\u001b[0m\u001b[0mendog\u001b[0m\u001b[0;34m,\u001b[0m \u001b[0mexog\u001b[0m\u001b[0;34m)\u001b[0m\u001b[0;34m\u001b[0m\u001b[0;34m\u001b[0m\u001b[0m\n\u001b[0m\u001b[1;32m     83\u001b[0m \u001b[0;34m\u001b[0m\u001b[0m\n\u001b[1;32m     84\u001b[0m         \u001b[0mself\u001b[0m\u001b[0;34m.\u001b[0m\u001b[0mconst_idx\u001b[0m \u001b[0;34m=\u001b[0m \u001b[0;32mNone\u001b[0m\u001b[0;34m\u001b[0m\u001b[0;34m\u001b[0m\u001b[0m\n",
      "\u001b[0;32m~/.local/lib/python3.8/site-packages/statsmodels/base/data.py\u001b[0m in \u001b[0;36m_convert_endog_exog\u001b[0;34m(self, endog, exog)\u001b[0m\n\u001b[1;32m    505\u001b[0m         \u001b[0mexog\u001b[0m \u001b[0;34m=\u001b[0m \u001b[0mexog\u001b[0m \u001b[0;32mif\u001b[0m \u001b[0mexog\u001b[0m \u001b[0;32mis\u001b[0m \u001b[0;32mNone\u001b[0m \u001b[0;32melse\u001b[0m \u001b[0mnp\u001b[0m\u001b[0;34m.\u001b[0m\u001b[0masarray\u001b[0m\u001b[0;34m(\u001b[0m\u001b[0mexog\u001b[0m\u001b[0;34m)\u001b[0m\u001b[0;34m\u001b[0m\u001b[0;34m\u001b[0m\u001b[0m\n\u001b[1;32m    506\u001b[0m         \u001b[0;32mif\u001b[0m \u001b[0mendog\u001b[0m\u001b[0;34m.\u001b[0m\u001b[0mdtype\u001b[0m \u001b[0;34m==\u001b[0m \u001b[0mobject\u001b[0m \u001b[0;32mor\u001b[0m \u001b[0mexog\u001b[0m \u001b[0;32mis\u001b[0m \u001b[0;32mnot\u001b[0m \u001b[0;32mNone\u001b[0m \u001b[0;32mand\u001b[0m \u001b[0mexog\u001b[0m\u001b[0;34m.\u001b[0m\u001b[0mdtype\u001b[0m \u001b[0;34m==\u001b[0m \u001b[0mobject\u001b[0m\u001b[0;34m:\u001b[0m\u001b[0;34m\u001b[0m\u001b[0;34m\u001b[0m\u001b[0m\n\u001b[0;32m--> 507\u001b[0;31m             raise ValueError(\"Pandas data cast to numpy dtype of object. \"\n\u001b[0m\u001b[1;32m    508\u001b[0m                              \"Check input data with np.asarray(data).\")\n\u001b[1;32m    509\u001b[0m         \u001b[0;32mreturn\u001b[0m \u001b[0msuper\u001b[0m\u001b[0;34m(\u001b[0m\u001b[0mPandasData\u001b[0m\u001b[0;34m,\u001b[0m \u001b[0mself\u001b[0m\u001b[0;34m)\u001b[0m\u001b[0;34m.\u001b[0m\u001b[0m_convert_endog_exog\u001b[0m\u001b[0;34m(\u001b[0m\u001b[0mendog\u001b[0m\u001b[0;34m,\u001b[0m \u001b[0mexog\u001b[0m\u001b[0;34m)\u001b[0m\u001b[0;34m\u001b[0m\u001b[0;34m\u001b[0m\u001b[0m\n",
      "\u001b[0;31mValueError\u001b[0m: Pandas data cast to numpy dtype of object. Check input data with np.asarray(data)."
     ]
    }
   ],
   "source": [
    "import statsmodels.api as sm\n",
    "X = df_train_processed.drop(columns=[\"SalePrice\"])\n",
    "Y = df_train_processed[\"SalePrice\"]\n",
    "print(X.isna().sum())\n",
    "print(pd.get_dummies(X))\n",
    "ks = sm.OLS(Y, X)\n",
    "ks_res =ks.fit()\n",
    "ks_res.summary()"
   ]
  },
  {
   "cell_type": "code",
   "execution_count": null,
   "id": "8c98a2c9",
   "metadata": {},
   "outputs": [],
   "source": []
  }
 ],
 "metadata": {
  "kernelspec": {
   "display_name": "Python 3",
   "language": "python",
   "name": "python3"
  },
  "language_info": {
   "codemirror_mode": {
    "name": "ipython",
    "version": 3
   },
   "file_extension": ".py",
   "mimetype": "text/x-python",
   "name": "python",
   "nbconvert_exporter": "python",
   "pygments_lexer": "ipython3",
   "version": "3.8.10"
  }
 },
 "nbformat": 4,
 "nbformat_minor": 5
}
