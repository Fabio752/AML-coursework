{
 "cells": [
  {
   "cell_type": "markdown",
   "id": "3015e697",
   "metadata": {},
   "source": [
    "# PART 1"
   ]
  },
  {
   "cell_type": "markdown",
   "id": "d47f8f6a",
   "metadata": {},
   "source": [
    "### Question 1 \n",
    "Join the House Prices - Advanced Regression Techniques competition on Kaggle. Download the\n",
    "training and test data."
   ]
  },
  {
   "cell_type": "code",
   "execution_count": 813,
   "id": "fdd6c721",
   "metadata": {},
   "outputs": [],
   "source": [
    "# imports .\n",
    "import pandas as pd\n",
    "import matplotlib.pyplot as plt\n",
    "import numpy as np\n",
    "\n",
    "# load train and test datasets.\n",
    "df_train = pd.read_csv('./h1data/train.csv')\n",
    "df_test = pd.read_csv('./h1data/test.csv')"
   ]
  },
  {
   "cell_type": "code",
   "execution_count": 814,
   "id": "e1b7a843",
   "metadata": {},
   "outputs": [],
   "source": [
    "# helper plot function\n",
    "def custom_plot(ax, xlab=\"\", ylab=\"\", title=\"\"):\n",
    "    ax.set_xlabel(xlab)\n",
    "    ax.set_ylabel(ylab)\n",
    "    ax.set_title(title)"
   ]
  },
  {
   "cell_type": "code",
   "execution_count": 815,
   "id": "0ef6bf42",
   "metadata": {},
   "outputs": [],
   "source": [
    "# Save sale conditions and central air before 1HE to plot later.\n",
    "sale_cond = df_train[\"SaleCondition\"]\n",
    "central_air = df_train[\"CentralAir\"]"
   ]
  },
  {
   "cell_type": "markdown",
   "id": "f588efb0",
   "metadata": {},
   "source": [
    "### Question 2\n",
    "Give 3 examples of continuous and categorical features in the dataset; choose one feature of each\n",
    "type and plot the histogram to illustrate the distribution."
   ]
  },
  {
   "cell_type": "markdown",
   "id": "adc65c70",
   "metadata": {},
   "source": [
    "#### 2.1. Continuous features\n",
    "Three examples of continuous features in the dataset are the following:\n",
    "- LotFrontage\n",
    "- LotArea\n",
    "- GarageArea\n",
    "\n",
    "The figure below shows a histogram of the lot areas."
   ]
  },
  {
   "cell_type": "code",
   "execution_count": 816,
   "id": "8e6dc78f",
   "metadata": {
    "scrolled": true
   },
   "outputs": [
    {
     "data": {
      "image/png": "[encoded data removed]",
      "text/plain": [
       "<Figure size 432x288 with 1 Axes>"
      ]
     },
     "metadata": {
      "needs_background": "light"
     },
     "output_type": "display_data"
    }
   ],
   "source": [
    "# Histogram for LotArea\n",
    "plt.hist(df_train[\"GarageArea\"])\n",
    "custom_plot(plt.gca(), xlab = \"Garage Area (sq. feet)\", ylab = \"Count\", title = \"Garage Area Histogram\")"
   ]
  },
  {
   "cell_type": "markdown",
   "id": "ac9c0882",
   "metadata": {},
   "source": [
    "#### 2. 2 Categorical features\n",
    "Three examples of categorical features in the dataset are the following:\n",
    "- Street\n",
    "- Lot Shape\n",
    "- Utilities"
   ]
  },
  {
   "cell_type": "code",
   "execution_count": 817,
   "id": "82b57bfd",
   "metadata": {},
   "outputs": [
    {
     "data": {
      "image/png": "[encoded data removed]",
      "text/plain": [
       "<Figure size 432x288 with 1 Axes>"
      ]
     },
     "metadata": {
      "needs_background": "light"
     },
     "output_type": "display_data"
    }
   ],
   "source": [
    "# Histogram for LotShape\n",
    "plt.hist(df_train[\"LotShape\"])\n",
    "custom_plot(plt.gca(), xlab = \"Lot Shape\", ylab = \"Count\", title = \"Lot Shape Histogram\")"
   ]
  },
  {
   "cell_type": "markdown",
   "id": "3c6463a8",
   "metadata": {},
   "source": [
    "### Question 3\n",
    "Pre-process your data, explain your pre-processing steps, and the reasons why you need them.\n",
    "(Hint: data pre-processing steps can include but are not restricted to: dealing with missing values,\n",
    "normalizing numerical values, dealing with categorical values etc.)"
   ]
  },
  {
   "cell_type": "markdown",
   "id": "565d736b",
   "metadata": {},
   "source": [
    "#### 3.1 Concatenate train and test datasets\n",
    "First I decided to concatenate training and test datasets to perform a consistent pre-processing on both datasets. I keep track of the size of the train datasets to split them back after pre-processing."
   ]
  },
  {
   "cell_type": "code",
   "execution_count": 818,
   "id": "31822932",
   "metadata": {},
   "outputs": [],
   "source": [
    "len_train = len(df_train)\n",
    "df = pd.concat([df_train, df_test])"
   ]
  },
  {
   "cell_type": "markdown",
   "id": "c945c536",
   "metadata": {},
   "source": [
    "#### 3.2 Deal with missing values and interpolate\n",
    "\n",
    "Secondly, I remove all missing values. There are several ways to treat missing values.\n",
    "\n",
    "For categorical values with a \"NA\" category, we manually fill them using the __fillna__ pandas function.\n",
    "The feature \"MasVnrType\" has a \"None\" category, so we manually fill it with that.\n",
    "For all the other columns we use the pandas function __interpolate(\"nearest\")__ which fills the missing values copying the one of the nearest observation."
   ]
  },
  {
   "cell_type": "code",
   "execution_count": 819,
   "id": "f5549a86",
   "metadata": {},
   "outputs": [],
   "source": [
    "na_cols = [\"BsmtQual\", \"BsmtCond\", \"BsmtExposure\", \"BsmtFinType1\", \"GarageType\", \\\n",
    "           \"GarageFinish\", \"GarageQual\", \"GarageCond\", \"PoolQC\", \"Fence\", \"MiscFeature\",  \\\n",
    "           \"ExterQual\", \"ExterCond\", \"HeatingQC\", \"KitchenQual\", \"FireplaceQu\"]\n",
    "\n",
    "\n",
    "for col in na_cols:\n",
    "    df[col].fillna(\"NA\", inplace = True)\n",
    "\n",
    "df[\"MasVnrType\"].fillna(\"None\", inplace = True) # has 8 NaN and a defined \"None\" Category, cleanup.\n",
    "\n",
    "df = df.interpolate(\"nearest\")"
   ]
  },
  {
   "cell_type": "markdown",
   "id": "051ded2e",
   "metadata": {},
   "source": [
    "#### 3.3 Normalization\n",
    "A further data normalization approach that we tried is to normalize large numerical data. However, we obtained worse results after normalization, so we decided to remove it from the final submission."
   ]
  },
  {
   "cell_type": "code",
   "execution_count": 820,
   "id": "e519d5c0",
   "metadata": {},
   "outputs": [],
   "source": [
    "def norm_cols(df, col_names):\n",
    "    for col in col_names :\n",
    "        max_val = float(df[col].max())\n",
    "        df[col + \"_Norm\"] = df[col] / max_val\n",
    "    \n",
    "    df.drop(columns = col_names, inplace=True)\n",
    "\n",
    "    \n",
    "# cols_to_norm = [\"BsmtFinSF1\", \"LotArea\", \"MasVnrArea\", \"WoodDeckSF\", \"LotFrontage\", \\\n",
    "#                 \"2ndFlrSF\", \"1stFlrSF\", \"GarageArea\", \"OpenPorchSF\", \"BsmtUnfSF\", \\\n",
    "#                 \"TotalBsmtSF\"] \n",
    "# norm_cols(df, cols_to_norm)"
   ]
  },
  {
   "cell_type": "markdown",
   "id": "fc268054",
   "metadata": {},
   "source": [
    "#### 3.4 Binning \n",
    "Another way to pre-process numerical values is to discretize them into bins. We tried this approach using the builtin __qcut__ function in pandas and applied it on dates. We defined 5 bins from \"Very Old\" to \"New\" to caption binned dates information. However, we found in testing that this pre-processing step was also worsening the performance of the model, and therefore removed it from the final submission."
   ]
  },
  {
   "cell_type": "code",
   "execution_count": 821,
   "id": "45451758",
   "metadata": {},
   "outputs": [],
   "source": [
    "# cols_to_bin = [\"GarageYrBlt\", \"YearRemodAdd\", \"YearBuilt\"] \n",
    "# bin_labels = [\"Very Old\", \"Old\", \"Average\", \"Recent\", \"New\"]\n",
    "\n",
    "# for col in cols_to_bin:\n",
    "#     df[col + \"_Bin\"] = pd.qcut(df[col], q = [0, .2, .4, .6, .8, 1], labels = bin_labels)\n",
    "\n",
    "# df.drop(columns = cols_to_bin, inplace=True)\n"
   ]
  },
  {
   "cell_type": "markdown",
   "id": "0ebb4d8f",
   "metadata": {},
   "source": [
    "#### 3.5 Deal with Categorical Values"
   ]
  },
  {
   "cell_type": "markdown",
   "id": "b6b39a52",
   "metadata": {},
   "source": [
    "The two main methods to deal with categorical values are one hot encoding and ordered numericals.\n",
    "While the first one is great for features with few possible categories, the second one works best for features in which the categories encompass a qualitative information on the state of something, i.e. the condition of a house feature from \"Excellent\" to \"Poor\". \n",
    "\n",
    "We defined a function to transform all these categories in ordered numericals:"
   ]
  },
  {
   "cell_type": "code",
   "execution_count": 822,
   "id": "409bd812",
   "metadata": {},
   "outputs": [],
   "source": [
    "levels = [\"NA\", \"Po\", \"Fa\", \"TA\", \"Gd\", \"Ex\"]\n",
    "def to_ord_num(df, col_name):\n",
    "    df[col_name + \"_Ord\"] = df.apply(\n",
    "        lambda x:  levels.index(x[col_name]),\n",
    "    axis=1)\n",
    "    df.drop(columns = [col_name], inplace = True)"
   ]
  },
  {
   "cell_type": "code",
   "execution_count": 823,
   "id": "91385427",
   "metadata": {},
   "outputs": [],
   "source": [
    "ord_cols = [\"ExterQual\", \"ExterCond\", \"BsmtQual\", \"BsmtCond\", \"HeatingQC\", \\\n",
    "            \"KitchenQual\", \"FireplaceQu\", \"GarageQual\", \"GarageCond\", \"PoolQC\"]\n",
    "for col in ord_cols:\n",
    "    to_ord_num(df, col)\n",
    "    "
   ]
  },
  {
   "cell_type": "markdown",
   "id": "4d2ef61d",
   "metadata": {},
   "source": [
    "To one hot encode categorical columns we simply leveraged the builtin __get_dummies__ pandas function.\n",
    "This function automatically creates a new column named \"{col_name}_{category}\" for each categorical entry, then drops the original column."
   ]
  },
  {
   "cell_type": "code",
   "execution_count": 824,
   "id": "fd514029",
   "metadata": {},
   "outputs": [],
   "source": [
    "df = pd.get_dummies(df)"
   ]
  },
  {
   "cell_type": "markdown",
   "id": "457e9691",
   "metadata": {},
   "source": [
    "#### 3.6 Split back test and train datasets\n",
    "Finally, we split the concatenated dataset back to train and test."
   ]
  },
  {
   "cell_type": "code",
   "execution_count": 825,
   "id": "eac1a44c",
   "metadata": {},
   "outputs": [],
   "source": [
    "df_train = df.iloc[:len_train, :]\n",
    "df_test = df.iloc[len_train:, :]"
   ]
  },
  {
   "cell_type": "markdown",
   "id": "e39c6365",
   "metadata": {},
   "source": [
    "### Question 4\n",
    "One common method of pre-processing categorical features is to use a one-hot encoding (OHE).\n",
    "Suppose that we start with a categorical feature xj\n",
    ", taking three possible values: xj ∈ {R,G,B}. A\n",
    "one-hot encoding of this feature replaces xj with three new features: xj R,xjG ,xj B . Each feature\n",
    "contains a binary value of 0 or 1, depending on the value taken by xj\n",
    ". For example, if xj = G, then\n",
    "xjG = 1 and xj R = xj B = 0.\n",
    "Give some examples of features that you think should use a one-hot encoding and explain why.\n",
    "Convert at least one feature to a one-hot encoding (you can use your own implementation, or that\n",
    "in pandas or scikit-learn) and visualize the results by plotting feature histograms of the original\n",
    "feature and its new one-hot encoding."
   ]
  },
  {
   "cell_type": "markdown",
   "id": "0819e1bd",
   "metadata": {},
   "source": [
    "In step 3.6 we perform 1HE for all categorical features in the dataset. \n",
    "One hot encoding generates *n* new features where *n* is the number of unique values the feature can assume.\n",
    "For this reason, categories with many possible values are not suitable for one hot encoding, as it results in many new features that scatter information around. \n",
    "\n",
    "Furthermore, qualitative categorical features, i.e. features that describe the qualitative state of something using a set of categories like ['Excellent', 'Average', 'Bad'] are optimal candidates to be transformed in ordered numericals. That is because the distance between numbers will convey the distance between levels of quality.\n",
    "\n",
    "Therefore, we considered good 1HE candidates the features with a small amount of categories and which are not qualitative. The histograms below show the old and new features for the following:\n",
    "- SaleCondition\n",
    "- CentralAir\n",
    "\n",
    "We decided to plot two features to visually showcase that CentralAir is an ideal candidate for 1HE being a binary categorical feature, compared to SaleCondition that can assume 6 possible values."
   ]
  },
  {
   "cell_type": "code",
   "execution_count": 826,
   "id": "291e2043",
   "metadata": {},
   "outputs": [
    {
     "data": {
      "text/plain": [
       "[<matplotlib.axis.XTick at 0x7f88866e20d0>,\n",
       " <matplotlib.axis.XTick at 0x7f88866e20a0>]"
      ]
     },
     "execution_count": 826,
     "metadata": {},
     "output_type": "execute_result"
    },
    {
     "data": {
      "image/png": "[encoded data removed]",
      "text/plain": [
       "<Figure size 1584x1008 with 10 Axes>"
      ]
     },
     "metadata": {
      "needs_background": "light"
     },
     "output_type": "display_data"
    }
   ],
   "source": [
    "# SaleCondition\n",
    "fig = plt.figure(figsize = (22, 14))\n",
    "\n",
    "gs = fig.add_gridspec(7,4)\n",
    "ax = fig.add_subplot(gs[0:3, 0:2])\n",
    "ax.hist(sale_cond)\n",
    "custom_plot(ax, xlab = \"\", ylab = \"Count\", title = \"Sale Condition Categorical\")\n",
    "\n",
    "i = 0\n",
    "j = 2\n",
    "for cat in sale_cond.unique():\n",
    "    ax = fig.add_subplot(gs[i, j])\n",
    "    ax.hist(df_train[\"SaleCondition_\" + cat])\n",
    "    custom_plot(ax, xlab = \"\", ylab = \"Count\", title = cat)\n",
    "    ax.set_xticks([0, 1])\n",
    "    j += 1\n",
    "    if j == 4:\n",
    "        j = 2\n",
    "        i += 1\n",
    "        \n",
    "ax = fig.add_subplot(gs[4:6, 0:2])\n",
    "ax.hist(central_air)\n",
    "custom_plot(ax, xlab = \"\", ylab = \"Count\", title = \"CentralAir\")\n",
    "\n",
    "ax = fig.add_subplot(gs[4:6, 2])\n",
    "ax.hist(df_train[\"CentralAir_N\"])\n",
    "custom_plot(ax, xlab = \"\", ylab = \"Count\", title = \"No\")\n",
    "ax.set_xticks([0, 1])\n",
    "\n",
    "ax = fig.add_subplot(gs[4:6, 3])\n",
    "ax.hist(df_train[\"CentralAir_Y\"])\n",
    "custom_plot(ax, xlab = \"\", ylab = \"Count\", title = \"Yes\")\n",
    "ax.set_xticks([0, 1])\n"
   ]
  },
  {
   "cell_type": "markdown",
   "id": "bd949812",
   "metadata": {},
   "source": [
    "### Question 5\n",
    "Using ordinary least squares (OLS), try to predict house prices on this dataset. Choose the features\n",
    "(or combinations of features) you would like to use or ignore, provided you justify your choice.\n",
    "Evaluate your predictions on the training set using the MSE and the R\n",
    "2\n",
    "score. For this question,\n",
    "you need to implement OLS from scratch without using any external libraries or packages."
   ]
  },
  {
   "cell_type": "markdown",
   "id": "e7cdadf5",
   "metadata": {},
   "source": [
    "#### 5.1 Correlation Matrix\n",
    "We use a correlation matrix to dynamically pick features that are correlated to the target feature *SalePrice* above a certain treshold. Moreover, we scan the correlation matrix to find highly correlated pairs of features, using another threshold, in order to discard one of the two since the information that they convey is very similar.\n",
    "\n",
    "We performed some manual hyperparameter optimization of the two thresholds via visual inspection of the correlation matrix."
   ]
  },
  {
   "cell_type": "code",
   "execution_count": 827,
   "id": "c7e78d0f",
   "metadata": {},
   "outputs": [],
   "source": [
    "cm = df_train.corr()\n",
    "\n",
    "th_saleprice = 0.05\n",
    "th_corr_pairs = 0.75\n",
    "\n",
    "highly_corr_saleprice_bool = np.abs(cm.values) > th_saleprice\n",
    "highly_corr_pairs_bool = np.abs(cm.values) > th_corr_pairs\n",
    "\n",
    "high_corr_pairs = [(cm.columns[i], cm.columns[j]) for i, j in zip(*np.where(highly_corr_pairs_bool)) \n",
    "                 if i < j and cm.columns[j] != \"SalePrice\"] \n",
    "high_info_cols = {cm.columns[i] for i, j in zip(*np.where(highly_corr_saleprice_bool)) \n",
    "                 if i < j and cm.columns[j] == \"SalePrice\"}\n",
    "\n",
    "for c1, c2 in high_corr_pairs:\n",
    "    if c1 in high_info_cols and c2 in high_info_cols:\n",
    "        high_info_cols.remove(c1)\n",
    "\n",
    "df_train_processed = df_train[list(high_info_cols) + [\"SalePrice\"]]"
   ]
  },
  {
   "cell_type": "markdown",
   "id": "d461fc3a",
   "metadata": {},
   "source": [
    "#### 5.2 OLS \n",
    "We defined a new class *MyOLS* to train the model and predict. We use it to train the model on training set and predict the prices of the training set itself."
   ]
  },
  {
   "cell_type": "code",
   "execution_count": 828,
   "id": "05626c23",
   "metadata": {},
   "outputs": [],
   "source": [
    "class MyOLS:\n",
    "    def __init__(self, X, Y):\n",
    "        self._theta_best = np.linalg.inv(X.T.dot(X)).dot(X.T).dot(Y)\n",
    "\n",
    "    def predict(self, X_test):\n",
    "        predictions = X_test.dot(self._theta_best)\n",
    "        return predictions"
   ]
  },
  {
   "cell_type": "code",
   "execution_count": 829,
   "id": "0bfc22be",
   "metadata": {},
   "outputs": [],
   "source": [
    "Y = df_train_processed[\"SalePrice\"]\n",
    "X = df_train_processed.drop(columns=[\"SalePrice\"])\n",
    "\n",
    "ols = MyOLS(X, Y)\n",
    "predictions = ols.predict(X)\n",
    "predictions.to_csv('train_results_h1.csv', sep=',', index=False)"
   ]
  },
  {
   "cell_type": "markdown",
   "id": "ad7b4d60",
   "metadata": {},
   "source": [
    "Then, we defined two custom functions *my_MSE* and *my_RSquared* to respectively compute the two metrics on the model predictions on the training set."
   ]
  },
  {
   "cell_type": "code",
   "execution_count": 830,
   "id": "debb57be",
   "metadata": {},
   "outputs": [],
   "source": [
    "def my_MSE(y, y_pred):\n",
    "    return 0.5 * np.mean((y - y_pred) ** 2)\n",
    "def my_RSquared(y, y_pred):\n",
    "    return 1 - sum((y - y_pred) ** 2)/ sum((y - np.mean(y)) ** 2)"
   ]
  },
  {
   "cell_type": "code",
   "execution_count": 831,
   "id": "5c103cce",
   "metadata": {
    "scrolled": true
   },
   "outputs": [
    {
     "name": "stdout",
     "output_type": "stream",
     "text": [
      "MSE:  626857887.7445887\n",
      "RSquared:  0.8012117009278596\n"
     ]
    }
   ],
   "source": [
    "print(\"MSE: \", my_MSE(Y, predictions))\n",
    "print(\"RSquared: \", my_RSquared(Y, predictions))\n"
   ]
  },
  {
   "cell_type": "markdown",
   "id": "786386e8",
   "metadata": {},
   "source": [
    "### Question 6 \n",
    "Train your model using all of the training data (all data points, but not necessarily all the features),\n",
    "and test it using the testing data. Submit your results to Kaggle."
   ]
  },
  {
   "cell_type": "markdown",
   "id": "7534b04c",
   "metadata": {},
   "source": [
    "#### Kaggle Score: 0.21172"
   ]
  },
  {
   "cell_type": "code",
   "execution_count": 832,
   "id": "efacdd63",
   "metadata": {},
   "outputs": [],
   "source": [
    "df_test_processed = df_test[high_info_cols]\n",
    "test_predictions = ols.predict(df_test_processed)\n",
    "\n",
    "pred_df = pd.DataFrame(test_predictions, columns = ['SalePrice'])\n",
    "pred_df.reset_index(inplace=True)\n",
    "pred_df = pred_df.rename(columns = {'index':'Id'})\n",
    "pred_df[\"Id\"] = pred_df[\"Id\"].apply(lambda x : x + len(df_train) + 1)\n",
    "pred_df.to_csv('results_h1.csv', sep=',', index=False)"
   ]
  }
 ],
 "metadata": {
  "kernelspec": {
   "display_name": "Python 3",
   "language": "python",
   "name": "python3"
  },
  "language_info": {
   "codemirror_mode": {
    "name": "ipython",
    "version": 3
   },
   "file_extension": ".py",
   "mimetype": "text/x-python",
   "name": "python",
   "nbconvert_exporter": "python",
   "pygments_lexer": "ipython3",
   "version": "3.8.10"
  }
 },
 "nbformat": 4,
 "nbformat_minor": 5
}
