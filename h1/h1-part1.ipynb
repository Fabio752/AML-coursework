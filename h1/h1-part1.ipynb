{
 "cells": [
  {
   "cell_type": "markdown",
   "id": "3015e697",
   "metadata": {},
   "source": [
    "# PART 1"
   ]
  },
  {
   "cell_type": "markdown",
   "id": "d47f8f6a",
   "metadata": {},
   "source": [
    "### Question 1 \n",
    "Join the House Prices - Advanced Regression Techniques competition on Kaggle. Download the\n",
    "training and test data."
   ]
  },
  {
   "cell_type": "code",
   "execution_count": 916,
   "id": "fdd6c721",
   "metadata": {},
   "outputs": [],
   "source": [
    "import pandas as pd\n",
    "import matplotlib.pyplot as plt\n",
    "import numpy as np\n",
    "# col_names = [\"sepal length\", \"sepal width\", \"petal length\", \"petal width\", \"class\"]\n",
    "df_train = pd.read_csv('./data/train.csv')\n",
    "df_test = pd.read_csv('./data/test.csv')"
   ]
  },
  {
   "cell_type": "code",
   "execution_count": 917,
   "id": "e1b7a843",
   "metadata": {},
   "outputs": [],
   "source": [
    "# helper plot function\n",
    "def custom_plot(ax, xlab=\"\", ylab=\"\", title=\"\"):\n",
    "    ax.set_xlabel(xlab)\n",
    "    ax.set_ylabel(ylab)\n",
    "    ax.set_title(title)\n"
   ]
  },
  {
   "cell_type": "markdown",
   "id": "f588efb0",
   "metadata": {},
   "source": [
    "### Question 2\n",
    "Give 3 examples of continuous and categorical features in the dataset; choose one feature of each\n",
    "type and plot the histogram to illustrate the distribution."
   ]
  },
  {
   "cell_type": "markdown",
   "id": "adc65c70",
   "metadata": {},
   "source": [
    "#### Continuous features:\n",
    "- Lot Frontage\n",
    "- Lot Area\n",
    "- Sale Price"
   ]
  },
  {
   "cell_type": "code",
   "execution_count": 918,
   "id": "8e6dc78f",
   "metadata": {
    "scrolled": true
   },
   "outputs": [
    {
     "data": {
      "image/png": "[encoded data removed]",
      "text/plain": [
       "<Figure size 432x288 with 1 Axes>"
      ]
     },
     "metadata": {
      "needs_background": "light"
     },
     "output_type": "display_data"
    }
   ],
   "source": [
    "# Histogram for SalePrice\n",
    "plt.hist(df_train[\"SalePrice\"])\n",
    "custom_plot(plt.gca(), xlab = \"Sale Price\", ylab = \"Count\", title = \"Sale Price Histogram\")"
   ]
  },
  {
   "cell_type": "markdown",
   "id": "ac9c0882",
   "metadata": {},
   "source": [
    "\n",
    "\n",
    "\n",
    "#### Categorical features:\n",
    "- Street\n",
    "- Lot Shape\n",
    "- Utilities"
   ]
  },
  {
   "cell_type": "code",
   "execution_count": 919,
   "id": "82b57bfd",
   "metadata": {},
   "outputs": [
    {
     "data": {
      "image/png": "[encoded data removed]",
      "text/plain": [
       "<Figure size 432x288 with 1 Axes>"
      ]
     },
     "metadata": {
      "needs_background": "light"
     },
     "output_type": "display_data"
    }
   ],
   "source": [
    "# Histogram for LotShape\n",
    "plt.hist(df_train[\"LotShape\"])\n",
    "custom_plot(plt.gca(), xlab = \"Lot Shape\", ylab = \"Count\", title = \"Lot Shape Histogram\")"
   ]
  },
  {
   "cell_type": "code",
   "execution_count": 920,
   "id": "2cd20bea",
   "metadata": {},
   "outputs": [
    {
     "data": {
      "image/png": "[encoded data removed]",
      "text/plain": [
       "<Figure size 432x288 with 1 Axes>"
      ]
     },
     "metadata": {
      "needs_background": "light"
     },
     "output_type": "display_data"
    }
   ],
   "source": [
    "# Histogram for LotShape\n",
    "fig, ax = plt.subplots(1, 1)\n",
    "ax.hist(df_train[\"LotShape\"])\n",
    "custom_plot(ax, xlab = \"Lot Shape\", ylab = \"Count\", title = \"Lot Shape Histogram\")"
   ]
  },
  {
   "cell_type": "markdown",
   "id": "9609bad1",
   "metadata": {},
   "source": [
    "\n",
    "- MSSubClass is the type of estate. I think it is important to predict cost but has too many types to be one hot encoded.\n",
    "- MSZoning identifies type of zone in which the estate is located. Quite important for price, can assume five values: RL, RM, RH, FV, C. Candidate for 1HE\n",
    "- Street is almost always \"Pave\", no information - can be thrown away.\n",
    "- Alley: 1369 NaN on 1459 rows, no information - can be thrown away.\n",
    "- LotShape: General shape, mostly regular or slightly irregular, very few moderate and irregular.\n",
    "- LandContour: Flatness, almost all Level, some banked, hillside and depression (might be useless)\n",
    "- Utilities: All AllPub, just useless \n",
    "- LotConfig: > 1000 Inside lots, some Corner lots and a few Cul de sac (might be useless)\n",
    "- LandSlope: Almost all Gentle, throw away.\n",
    "- Neighborhood: Many neighborohoods listed (25) data well distributed, so good but not feasible to 1HE.\n",
    "- Condition1: Most Norm, maybe throw away.\n",
    "- Condition2: Basicall all Norm, throw away.\n",
    "- BldgType: Many single family detached, some townhouse end units, maybe keep, 5 values so possible 1HE\n",
    "- HouseStyle: Most are One story, many two story and some 1.5finished and Split level, 8 values in total.\n",
    "- OverallQual: Mostly slightly above average on 5s, 6s, 7s, some 8s and 4s very few lows and highs.\n",
    "- OverallCond: Almost all 5 and above, a lot of 5s and some 6s and 7s.\n",
    "- YearBuilt: Almost none <1900, general increasing trend, > 400 around 2000.\n",
    "- YearRemodAdd: Quite a few arond 1950, then steady up to 2000 where increases massively with peak at 2010.\n",
    "- RoofStyle: 90% Gable, 10% Hip, not much data here, other classes basically not represented.\n",
    "- RoofMatl: Basically all Standard Composite shingle, can throw away.\n",
    "- Exterior1st: lot of vinyl siding, some hardboard, brick face and wood siding. few asbestos shingles. Too many types.\n",
    "- Exterior2nd: Most between vinyl, plywood and wood siding.\n",
    "- MasVnrType: 800+ None, others mostly Brick face and some stone.\n",
    "- ExterQual: 800+ Typical material quality of the exterior, almost all others Good. \n",
    "- ExterCond: 1200+ Typical, some good but I think throw away.\n",
    "- Foundation: Mainly evenly divided into Poured Concrete and Cinder Block, Some Brick & Tile. Good candidate for 1HE\n",
    "- BsmtQual: Mainly evenly divided into Good and Average, some Excellents.\n",
    "- BsmtFinType2: Mostly Unfinished, can throw away.\n",
    "- Heating: Almost all Gas forced warm air furnace, throw away.\n",
    "- HeatingQC: 700+ Excellent, many average and some good.\n",
    "- CentralAir: Mostly all yes, < 100 No. Can throw away.\n",
    "- Electrical: Almost all Standard circuit breakers & romex, some Fuse box over 60 Amp. Throw.\n",
    "- KitchenQual: Good number of goods and averages. some excellents and very few fair.\n",
    "- Functional: Mostly all Typical, throw away.\n",
    "- FirePlaceQu: Mostly NA, throw away\n",
    "- GarageType: >800 Attached to home, quite a few detached, some builtin and NA.\n",
    "- GarageFinish: Many Unfinished, quite a few Rough finished an finished, 81 NA.\n",
    "- GarageQual: Almost all average, ignore.\n",
    "- GarageCond: Almost all average, ignore.\n",
    "- PavedDrive: Almost all yes, ignore.\n",
    "- PoolQC: Basicall all NA, ignore.\n",
    "- Fence: Most NA, ignore.\n",
    "- MiscFeature: Almost all NA, just some sheds, ignore.\n",
    "- SaleType: >1200 Warranty Deed, some New but little info, throw away.\n",
    "- SaleCondition: Almost 1200 normal, some partial and abnormal. Maybe throw away?"
   ]
  },
  {
   "cell_type": "markdown",
   "id": "3c6463a8",
   "metadata": {},
   "source": [
    "### Question 3\n",
    "Pre-process your data, explain your pre-processing steps, and the reasons why you need them.\n",
    "(Hint: data pre-processing steps can include but are not restricted to: dealing with missing values,\n",
    "normalizing numerical values, dealing with categorical values etc.)"
   ]
  },
  {
   "cell_type": "code",
   "execution_count": 921,
   "id": "4f7f98a2",
   "metadata": {},
   "outputs": [],
   "source": [
    "len_train = len(df_train)\n",
    "df = pd.concat([df_train, df_test])"
   ]
  },
  {
   "cell_type": "code",
   "execution_count": 922,
   "id": "5bb0a454",
   "metadata": {},
   "outputs": [],
   "source": [
    "columns_visually_useless = {'Id', 'Street', 'Alley', 'LandContour', 'Utilities', 'LotConfig', \\\n",
    "                  'LandSlope', 'Condition1', 'Condition2', 'RoofStyle', \\\n",
    "                  'RoofMatl', 'ExterCond', 'BsmtFinType2', 'Heating', 'CentralAir', \\\n",
    "                  'Electrical', 'Functional', 'FireplaceQu', 'GarageYrBlt', 'TotRmsAbvGrd'}\n",
    "for col in df.columns:\n",
    "    if df[col].isna().sum() / len(df) > 0.3 or col in columns_visually_useless:\n",
    "        df.drop(columns=[col])\n",
    "\n",
    "na_cols = [\"BsmtQual\", \"BsmtCond\", \"BsmtExposure\", \"BsmtFinType1\", \"BsmtFinType2\", \"Electrical\", \\\n",
    "           \"FireplaceQu\", \"GarageType\", \"GarageFinish\", \"GarageQual\", \"GarageCond\", \"PoolQC\", \\\n",
    "           \"Fence\", \"MiscFeature\"]\n",
    "for col in na_cols:\n",
    "    df[col].fillna(\"NA\", inplace = True)\n",
    "\n",
    "df[\"MasVnrType\"].fillna(\"None\", inplace = True) # has 8 NaN and a defined \"None\" Category, cleanup.\n",
    "df = df.interpolate()\n",
    "df = pd.get_dummies(df)"
   ]
  },
  {
   "cell_type": "code",
   "execution_count": 923,
   "id": "58f6d497",
   "metadata": {},
   "outputs": [],
   "source": [
    "df_train = df.iloc[:len_train, :]\n",
    "df_test = df.iloc[len_train:, :]"
   ]
  },
  {
   "cell_type": "markdown",
   "id": "e39c6365",
   "metadata": {},
   "source": [
    "### Question 4\n",
    "One common method of pre-processing categorical features is to use a one-hot encoding (OHE).\n",
    "Suppose that we start with a categorical feature xj\n",
    ", taking three possible values: xj ∈ {R,G,B}. A\n",
    "one-hot encoding of this feature replaces xj with three new features: xj R,xjG ,xj B . Each feature\n",
    "contains a binary value of 0 or 1, depending on the value taken by xj\n",
    ". For example, if xj = G, then\n",
    "xjG = 1 and xj R = xj B = 0.\n",
    "Give some examples of features that you think should use a one-hot encoding and explain why.\n",
    "Convert at least one feature to a one-hot encoding (you can use your own implementation, or that\n",
    "in pandas or scikit-learn) and visualize the results by plotting feature histograms of the original\n",
    "feature and its new one-hot encoding."
   ]
  },
  {
   "cell_type": "markdown",
   "id": "bd949812",
   "metadata": {},
   "source": [
    "### Question 5\n",
    "Using ordinary least squares (OLS), try to predict house prices on this dataset. Choose the features\n",
    "(or combinations of features) you would like to use or ignore, provided you justify your choice.\n",
    "Evaluate your predictions on the training set using the MSE and the R\n",
    "2\n",
    "score. For this question,\n",
    "you need to implement OLS from scratch without using any external libraries or packages."
   ]
  },
  {
   "cell_type": "code",
   "execution_count": 924,
   "id": "c7e78d0f",
   "metadata": {},
   "outputs": [],
   "source": [
    "cm = df_train.corr()\n",
    "\n",
    "th_saleprice = 0.1\n",
    "th_corr_pairs = 0.75\n",
    "\n",
    "highly_corr_saleprice_bool = np.abs(cm.values) > th_saleprice\n",
    "highly_corr_pairs_bool = np.abs(cm.values) > th_corr_pairs\n",
    "\n",
    "high_corr_pairs = [(cm.columns[i], cm.columns[j]) for i, j in zip(*np.where(highly_corr_pairs_bool)) \n",
    "                 if i < j and cm.columns[j] != \"SalePrice\"] \n",
    "high_info_cols = {cm.columns[i] for i, j in zip(*np.where(highly_corr_saleprice_bool)) \n",
    "                 if i < j and cm.columns[j] == \"SalePrice\"}\n",
    "\n",
    "for c1, c2 in high_corr_pairs:\n",
    "    if c1 in high_info_cols and c2 in high_info_cols:\n",
    "        high_info_cols.remove(c1)\n",
    "\n",
    "df_train_processed = df_train[list(high_info_cols) + [\"SalePrice\"]]"
   ]
  },
  {
   "cell_type": "code",
   "execution_count": 925,
   "id": "28279cb5",
   "metadata": {},
   "outputs": [],
   "source": [
    "class MyOLS:\n",
    "    def __init__(self, X, Y):\n",
    "        self._theta_best = np.linalg.inv(X.T.dot(X)).dot(X.T).dot(Y)\n",
    "\n",
    "    def predict(self, X_test):\n",
    "        predictions = X_test.dot(self._theta_best)\n",
    "        return predictions"
   ]
  },
  {
   "cell_type": "code",
   "execution_count": 926,
   "id": "0bfc22be",
   "metadata": {},
   "outputs": [],
   "source": [
    "Y = df_train_processed[\"SalePrice\"]\n",
    "X = df_train_processed.drop(columns=[\"SalePrice\"])\n",
    "\n",
    "ols = MyOLS(X, Y)\n",
    "predictions = ols.predict(X)\n",
    "predictions.to_csv('train_results.csv', sep=',', index=False)"
   ]
  },
  {
   "cell_type": "code",
   "execution_count": 927,
   "id": "b7d975bd",
   "metadata": {},
   "outputs": [],
   "source": [
    "def my_MSE(y, y_pred):\n",
    "    return 0.5 * np.mean((y - y_pred) ** 2)\n",
    "def my_RSquared(y, y_pred):\n",
    "    return 1 - sum((y - y_pred) ** 2)/ sum((y - np.mean(y)) ** 2)"
   ]
  },
  {
   "cell_type": "code",
   "execution_count": 928,
   "id": "cf379617",
   "metadata": {
    "scrolled": true
   },
   "outputs": [
    {
     "name": "stdout",
     "output_type": "stream",
     "text": [
      "MSE:  647306406.6550049\n",
      "RSquared:  0.794727095130888\n"
     ]
    }
   ],
   "source": [
    "print(\"MSE: \", my_MSE(Y, predictions))\n",
    "print(\"RSquared: \", my_RSquared(Y, predictions))\n"
   ]
  },
  {
   "cell_type": "markdown",
   "id": "786386e8",
   "metadata": {},
   "source": [
    "### Question 6 \n",
    "Train your model using all of the training data (all data points, but not necessarily all the features),\n",
    "and test it using the testing data. Submit your results to Kaggle."
   ]
  },
  {
   "cell_type": "code",
   "execution_count": 929,
   "id": "efacdd63",
   "metadata": {},
   "outputs": [],
   "source": [
    "df_test_processed = df_test[high_info_cols]\n",
    "test_predictions = ols.predict(df_test_processed)\n",
    "\n",
    "pred_df = pd.DataFrame(test_predictions, columns = ['SalePrice'])\n",
    "pred_df.reset_index(inplace=True)\n",
    "pred_df = pred_df.rename(columns = {'index':'Id'})\n",
    "pred_df[\"Id\"] = pred_df[\"Id\"].apply(lambda x : x + len(df_train) + 1)\n",
    "pred_df.to_csv('results.csv', sep=',', index=False)"
   ]
  },
  {
   "cell_type": "code",
   "execution_count": null,
   "id": "7ac49a02",
   "metadata": {},
   "outputs": [],
   "source": []
  }
 ],
 "metadata": {
  "kernelspec": {
   "display_name": "Python 3",
   "language": "python",
   "name": "python3"
  },
  "language_info": {
   "codemirror_mode": {
    "name": "ipython",
    "version": 3
   },
   "file_extension": ".py",
   "mimetype": "text/x-python",
   "name": "python",
   "nbconvert_exporter": "python",
   "pygments_lexer": "ipython3",
   "version": "3.8.10"
  }
 },
 "nbformat": 4,
 "nbformat_minor": 5
}
